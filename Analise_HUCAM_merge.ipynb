{
 "metadata": {
  "language_info": {
   "codemirror_mode": {
    "name": "ipython",
    "version": 3
   },
   "file_extension": ".py",
   "mimetype": "text/x-python",
   "name": "python",
   "nbconvert_exporter": "python",
   "pygments_lexer": "ipython3",
   "version": 3
  },
  "orig_nbformat": 2,
  "kernelspec": {
   "name": "python_defaultSpec_1596778441836",
   "display_name": "Python 3.8.2 64-bit"
  }
 },
 "nbformat": 4,
 "nbformat_minor": 2,
 "cells": [
  {
   "cell_type": "code",
   "execution_count": 1,
   "metadata": {},
   "outputs": [],
   "source": [
    "import pandas as pd\n",
    "import numpy as np\n",
    "import matplotlib.pyplot as plt\n",
    "import seaborn\n",
    "seaborn.set()\n",
    "\n",
    "inv = pd.read_excel('excel/InventarioHUCAM.xls', skiprows=5)\n",
    "osjan = pd.read_excel('excel/OSjan2020.xls', skiprows=5)\n",
    "osfev = pd.read_excel('excel/OSfev2020.xls', skiprows=5)\n",
    "osmar = pd.read_excel('excel/OSmar2020.xls', skiprows=5)"
   ]
  },
  {
   "cell_type": "code",
   "execution_count": 2,
   "metadata": {},
   "outputs": [
    {
     "output_type": "execute_result",
     "data": {
      "text/plain": "U.S.                          2222\nOrgão                         2222\nLocalização                    306\nPatrimônio                    2222\nN.º Série                     2163\nTipo Equipamento              2222\nClasse                        2222\nMarca                         2222\nModelo                        2222\nFornecedor                    2222\nValor (R$)                    2222\nAquisição                     2222\nNúm. Doc. da Aquisição        1462\nNota Fiscal                   2213\nGarantia                      2222\nData Desativação                 7\nDesativado                    2222\nParecer Desativação           2222\nPermitir O.S.                 2222\nBaixado                       2222\nContrato                      2222\nNEC                           2222\nEquipamento Crítico           2222\nN.º Quebras                   1125\nN.º Serviço Externo            430\nN.º Peças Utilizadas           740\nCusto Serviço Externo (R$)     200\nCusto Peça (R$)                740\nVida Útil                        7\nDescrição Complementar          47\ndtype: int64"
     },
     "metadata": {},
     "execution_count": 2
    }
   ],
   "source": [
    "inv.count()"
   ]
  },
  {
   "cell_type": "code",
   "execution_count": 4,
   "metadata": {},
   "outputs": [],
   "source": [
    "ostrim = pd.concat([osjan, osfev, osmar])"
   ]
  },
  {
   "cell_type": "code",
   "execution_count": 10,
   "metadata": {},
   "outputs": [
    {
     "output_type": "execute_result",
     "data": {
      "text/plain": "Unid. Saúde                  1224\nNúm.Orgão                    1224\nClasse                       1224\nNúm. O.S.                    1224\nAbertura                     1224\nEncerramento                 1224\nPatrimônio                   1033\nN. Série                     1000\nTipo Equip.                  1224\nMarca                        1033\nModelo                       1033\nGrupo                        1224\nDuração (dias)               1224\nDuração (horas)              1224\nPrograma MP                   542\nEquipamento Crítico          1033\nTempo SOS-OSP (dias)         1224\nTempo SOS-OSP (horas)        1224\nIndisponibilidade (dias)     1224\nIndisponibilidade (horas)    1224\ndtype: int64"
     },
     "metadata": {},
     "execution_count": 10
    }
   ],
   "source": [
    "ostrim.count()"
   ]
  },
  {
   "cell_type": "code",
   "execution_count": 15,
   "metadata": {},
   "outputs": [],
   "source": [
    "df = pd.merge(inv, ostrim, on='Patrimônio')"
   ]
  },
  {
   "cell_type": "code",
   "execution_count": 16,
   "metadata": {},
   "outputs": [
    {
     "output_type": "execute_result",
     "data": {
      "text/plain": "(964, 49)"
     },
     "metadata": {},
     "execution_count": 16
    }
   ],
   "source": [
    "df.shape"
   ]
  },
  {
   "cell_type": "code",
   "execution_count": 31,
   "metadata": {},
   "outputs": [
    {
     "output_type": "execute_result",
     "data": {
      "text/plain": "                                Tipo Equip.\n0                      CARRINHO EQUIPAMENTO\n1                       CAMA ELETRICA PARTO\n2                   ESPIROMETRO DIAGNOSTICO\n3                        DERMATOMO ELETRICO\n4    BALANCA PACIENTE PLATAFORMA ELETRONICA\n..                                      ...\n129                          FOTOTERAPIA UV\n130             MICROSCOPIO LAB CAMPO CLARO\n131                      ESTEREOMICROSCOPIO\n132                                 FREEZER\n133               FREEZER ALIMENTO VERTICAL\n\n[134 rows x 1 columns]",
      "text/html": "<div>\n<style scoped>\n    .dataframe tbody tr th:only-of-type {\n        vertical-align: middle;\n    }\n\n    .dataframe tbody tr th {\n        vertical-align: top;\n    }\n\n    .dataframe thead th {\n        text-align: right;\n    }\n</style>\n<table border=\"1\" class=\"dataframe\">\n  <thead>\n    <tr style=\"text-align: right;\">\n      <th></th>\n      <th>Tipo Equip.</th>\n    </tr>\n  </thead>\n  <tbody>\n    <tr>\n      <th>0</th>\n      <td>CARRINHO EQUIPAMENTO</td>\n    </tr>\n    <tr>\n      <th>1</th>\n      <td>CAMA ELETRICA PARTO</td>\n    </tr>\n    <tr>\n      <th>2</th>\n      <td>ESPIROMETRO DIAGNOSTICO</td>\n    </tr>\n    <tr>\n      <th>3</th>\n      <td>DERMATOMO ELETRICO</td>\n    </tr>\n    <tr>\n      <th>4</th>\n      <td>BALANCA PACIENTE PLATAFORMA ELETRONICA</td>\n    </tr>\n    <tr>\n      <th>...</th>\n      <td>...</td>\n    </tr>\n    <tr>\n      <th>129</th>\n      <td>FOTOTERAPIA UV</td>\n    </tr>\n    <tr>\n      <th>130</th>\n      <td>MICROSCOPIO LAB CAMPO CLARO</td>\n    </tr>\n    <tr>\n      <th>131</th>\n      <td>ESTEREOMICROSCOPIO</td>\n    </tr>\n    <tr>\n      <th>132</th>\n      <td>FREEZER</td>\n    </tr>\n    <tr>\n      <th>133</th>\n      <td>FREEZER ALIMENTO VERTICAL</td>\n    </tr>\n  </tbody>\n</table>\n<p>134 rows × 1 columns</p>\n</div>"
     },
     "metadata": {},
     "execution_count": 31
    }
   ],
   "source": [
    "pd.DataFrame.from_dict(ostrim.loc[:,'Tipo Equip.'].drop_duplicates().reset_index(drop=True))"
   ]
  },
  {
   "cell_type": "code",
   "execution_count": 33,
   "metadata": {},
   "outputs": [
    {
     "output_type": "execute_result",
     "data": {
      "text/plain": "                  Tipo Equipamento\n0                ADIPOMETRO MANUAL\n1                     AGITADOR LAB\n2           ANA LAB HEM COAGULACAO\n3    ANA LAB HEM CTG CELULA MANUAL\n4    AQUECEDOR PACIENTE AR FORCADO\n..                             ...\n208             VIDEO COLONOSCOPIO\n209              VIDEO COLPOSCOPIO\n210            VIDEO DUODENOSCOPIO\n211    VIDEO GASTROSCOPIO FLEXIVEL\n212                    WORKSTATION\n\n[213 rows x 1 columns]",
      "text/html": "<div>\n<style scoped>\n    .dataframe tbody tr th:only-of-type {\n        vertical-align: middle;\n    }\n\n    .dataframe tbody tr th {\n        vertical-align: top;\n    }\n\n    .dataframe thead th {\n        text-align: right;\n    }\n</style>\n<table border=\"1\" class=\"dataframe\">\n  <thead>\n    <tr style=\"text-align: right;\">\n      <th></th>\n      <th>Tipo Equipamento</th>\n    </tr>\n  </thead>\n  <tbody>\n    <tr>\n      <th>0</th>\n      <td>ADIPOMETRO MANUAL</td>\n    </tr>\n    <tr>\n      <th>1</th>\n      <td>AGITADOR LAB</td>\n    </tr>\n    <tr>\n      <th>2</th>\n      <td>ANA LAB HEM COAGULACAO</td>\n    </tr>\n    <tr>\n      <th>3</th>\n      <td>ANA LAB HEM CTG CELULA MANUAL</td>\n    </tr>\n    <tr>\n      <th>4</th>\n      <td>AQUECEDOR PACIENTE AR FORCADO</td>\n    </tr>\n    <tr>\n      <th>...</th>\n      <td>...</td>\n    </tr>\n    <tr>\n      <th>208</th>\n      <td>VIDEO COLONOSCOPIO</td>\n    </tr>\n    <tr>\n      <th>209</th>\n      <td>VIDEO COLPOSCOPIO</td>\n    </tr>\n    <tr>\n      <th>210</th>\n      <td>VIDEO DUODENOSCOPIO</td>\n    </tr>\n    <tr>\n      <th>211</th>\n      <td>VIDEO GASTROSCOPIO FLEXIVEL</td>\n    </tr>\n    <tr>\n      <th>212</th>\n      <td>WORKSTATION</td>\n    </tr>\n  </tbody>\n</table>\n<p>213 rows × 1 columns</p>\n</div>"
     },
     "metadata": {},
     "execution_count": 33
    }
   ],
   "source": [
    "pd.DataFrame.from_dict(inv.loc[:,'Tipo Equipamento'].drop_duplicates().reset_index(drop=True))"
   ]
  },
  {
   "cell_type": "code",
   "execution_count": 35,
   "metadata": {},
   "outputs": [
    {
     "output_type": "execute_result",
     "data": {
      "text/plain": "                                Tipo Equip.  \\\n0                       CAMA ELETRICA PARTO   \n1                   ESPIROMETRO DIAGNOSTICO   \n2                        DERMATOMO ELETRICO   \n3    BALANCA PACIENTE PLATAFORMA ELETRONICA   \n4                DESFIBRILADOR-CARDIOVERSOR   \n..                                      ...   \n106                          FOTOTERAPIA UV   \n107             MICROSCOPIO LAB CAMPO CLARO   \n108                      ESTEREOMICROSCOPIO   \n109                                 FREEZER   \n110               FREEZER ALIMENTO VERTICAL   \n\n                           Tipo Equipamento  \n0                       CAMA ELETRICA PARTO  \n1                   ESPIROMETRO DIAGNOSTICO  \n2                        DERMATOMO ELETRICO  \n3    BALANCA PACIENTE PLATAFORMA ELETRONICA  \n4                DESFIBRILADOR-CARDIOVERSOR  \n..                                      ...  \n106                          FOTOTERAPIA UV  \n107             MICROSCOPIO LAB CAMPO CLARO  \n108                      ESTEREOMICROSCOPIO  \n109                                 FREEZER  \n110               FREEZER ALIMENTO VERTICAL  \n\n[111 rows x 2 columns]",
      "text/html": "<div>\n<style scoped>\n    .dataframe tbody tr th:only-of-type {\n        vertical-align: middle;\n    }\n\n    .dataframe tbody tr th {\n        vertical-align: top;\n    }\n\n    .dataframe thead th {\n        text-align: right;\n    }\n</style>\n<table border=\"1\" class=\"dataframe\">\n  <thead>\n    <tr style=\"text-align: right;\">\n      <th></th>\n      <th>Tipo Equip.</th>\n      <th>Tipo Equipamento</th>\n    </tr>\n  </thead>\n  <tbody>\n    <tr>\n      <th>0</th>\n      <td>CAMA ELETRICA PARTO</td>\n      <td>CAMA ELETRICA PARTO</td>\n    </tr>\n    <tr>\n      <th>1</th>\n      <td>ESPIROMETRO DIAGNOSTICO</td>\n      <td>ESPIROMETRO DIAGNOSTICO</td>\n    </tr>\n    <tr>\n      <th>2</th>\n      <td>DERMATOMO ELETRICO</td>\n      <td>DERMATOMO ELETRICO</td>\n    </tr>\n    <tr>\n      <th>3</th>\n      <td>BALANCA PACIENTE PLATAFORMA ELETRONICA</td>\n      <td>BALANCA PACIENTE PLATAFORMA ELETRONICA</td>\n    </tr>\n    <tr>\n      <th>4</th>\n      <td>DESFIBRILADOR-CARDIOVERSOR</td>\n      <td>DESFIBRILADOR-CARDIOVERSOR</td>\n    </tr>\n    <tr>\n      <th>...</th>\n      <td>...</td>\n      <td>...</td>\n    </tr>\n    <tr>\n      <th>106</th>\n      <td>FOTOTERAPIA UV</td>\n      <td>FOTOTERAPIA UV</td>\n    </tr>\n    <tr>\n      <th>107</th>\n      <td>MICROSCOPIO LAB CAMPO CLARO</td>\n      <td>MICROSCOPIO LAB CAMPO CLARO</td>\n    </tr>\n    <tr>\n      <th>108</th>\n      <td>ESTEREOMICROSCOPIO</td>\n      <td>ESTEREOMICROSCOPIO</td>\n    </tr>\n    <tr>\n      <th>109</th>\n      <td>FREEZER</td>\n      <td>FREEZER</td>\n    </tr>\n    <tr>\n      <th>110</th>\n      <td>FREEZER ALIMENTO VERTICAL</td>\n      <td>FREEZER ALIMENTO VERTICAL</td>\n    </tr>\n  </tbody>\n</table>\n<p>111 rows × 2 columns</p>\n</div>"
     },
     "metadata": {},
     "execution_count": 35
    }
   ],
   "source": [
    "pd.merge(pd.DataFrame.from_dict(ostrim.loc[:,'Tipo Equip.'].drop_duplicates().reset_index(drop=True)), pd.DataFrame.from_dict(inv.loc[:,'Tipo Equipamento'].drop_duplicates().reset_index(drop=True)), left_on='Tipo Equip.', right_on='Tipo Equipamento')"
   ]
  },
  {
   "cell_type": "code",
   "execution_count": 39,
   "metadata": {},
   "outputs": [
    {
     "output_type": "execute_result",
     "data": {
      "text/plain": "(106,)"
     },
     "metadata": {},
     "execution_count": 39
    }
   ],
   "source": [
    "df.loc[:, 'Tipo Equip.'].drop_duplicates().shape"
   ]
  },
  {
   "cell_type": "code",
   "execution_count": null,
   "metadata": {},
   "outputs": [],
   "source": []
  }
 ]
}