{
 "metadata": {
  "language_info": {
   "codemirror_mode": {
    "name": "ipython",
    "version": 3
   },
   "file_extension": ".py",
   "mimetype": "text/x-python",
   "name": "python",
   "nbconvert_exporter": "python",
   "pygments_lexer": "ipython3",
   "version": 3
  },
  "orig_nbformat": 2,
  "kernelspec": {
   "name": "python_defaultSpec_1597121383842",
   "display_name": "Python 3.8.2 64-bit"
  }
 },
 "nbformat": 4,
 "nbformat_minor": 2,
 "cells": [
  {
   "cell_type": "markdown",
   "metadata": {},
   "source": [
    "Este notebook será utilizado para testes com a planilha Planets presente no Seaborn"
   ]
  },
  {
   "cell_type": "code",
   "execution_count": 1,
   "metadata": {},
   "outputs": [],
   "source": [
    "import seaborn\n",
    "import numpy as np\n",
    "import pandas as pd\n",
    "import matplotlib.pyplot as plt\n",
    "\n",
    "seaborn.set()"
   ]
  },
  {
   "cell_type": "code",
   "execution_count": 2,
   "metadata": {},
   "outputs": [],
   "source": [
    "df = seaborn.load_dataset('planets')"
   ]
  },
  {
   "cell_type": "code",
   "execution_count": 8,
   "metadata": {},
   "outputs": [
    {
     "output_type": "execute_result",
     "data": {
      "text/plain": "Index(['method', 'number', 'orbital_period', 'mass', 'distance', 'year'], dtype='object')"
     },
     "metadata": {},
     "execution_count": 8
    }
   ],
   "source": [
    "df.columns"
   ]
  },
  {
   "cell_type": "code",
   "execution_count": 9,
   "metadata": {},
   "outputs": [
    {
     "output_type": "execute_result",
     "data": {
      "text/plain": "          number  orbital_period        mass    distance         year\ncount  498.00000      498.000000  498.000000  498.000000   498.000000\nmean     1.73494      835.778671    2.509320   52.068213  2007.377510\nstd      1.17572     1469.128259    3.636274   46.596041     4.167284\nmin      1.00000        1.328300    0.003600    1.350000  1989.000000\n25%      1.00000       38.272250    0.212500   24.497500  2005.000000\n50%      1.00000      357.000000    1.245000   39.940000  2009.000000\n75%      2.00000      999.600000    2.867500   59.332500  2011.000000\nmax      6.00000    17337.500000   25.000000  354.000000  2014.000000",
      "text/html": "<div>\n<style scoped>\n    .dataframe tbody tr th:only-of-type {\n        vertical-align: middle;\n    }\n\n    .dataframe tbody tr th {\n        vertical-align: top;\n    }\n\n    .dataframe thead th {\n        text-align: right;\n    }\n</style>\n<table border=\"1\" class=\"dataframe\">\n  <thead>\n    <tr style=\"text-align: right;\">\n      <th></th>\n      <th>number</th>\n      <th>orbital_period</th>\n      <th>mass</th>\n      <th>distance</th>\n      <th>year</th>\n    </tr>\n  </thead>\n  <tbody>\n    <tr>\n      <th>count</th>\n      <td>498.00000</td>\n      <td>498.000000</td>\n      <td>498.000000</td>\n      <td>498.000000</td>\n      <td>498.000000</td>\n    </tr>\n    <tr>\n      <th>mean</th>\n      <td>1.73494</td>\n      <td>835.778671</td>\n      <td>2.509320</td>\n      <td>52.068213</td>\n      <td>2007.377510</td>\n    </tr>\n    <tr>\n      <th>std</th>\n      <td>1.17572</td>\n      <td>1469.128259</td>\n      <td>3.636274</td>\n      <td>46.596041</td>\n      <td>4.167284</td>\n    </tr>\n    <tr>\n      <th>min</th>\n      <td>1.00000</td>\n      <td>1.328300</td>\n      <td>0.003600</td>\n      <td>1.350000</td>\n      <td>1989.000000</td>\n    </tr>\n    <tr>\n      <th>25%</th>\n      <td>1.00000</td>\n      <td>38.272250</td>\n      <td>0.212500</td>\n      <td>24.497500</td>\n      <td>2005.000000</td>\n    </tr>\n    <tr>\n      <th>50%</th>\n      <td>1.00000</td>\n      <td>357.000000</td>\n      <td>1.245000</td>\n      <td>39.940000</td>\n      <td>2009.000000</td>\n    </tr>\n    <tr>\n      <th>75%</th>\n      <td>2.00000</td>\n      <td>999.600000</td>\n      <td>2.867500</td>\n      <td>59.332500</td>\n      <td>2011.000000</td>\n    </tr>\n    <tr>\n      <th>max</th>\n      <td>6.00000</td>\n      <td>17337.500000</td>\n      <td>25.000000</td>\n      <td>354.000000</td>\n      <td>2014.000000</td>\n    </tr>\n  </tbody>\n</table>\n</div>"
     },
     "metadata": {},
     "execution_count": 9
    }
   ],
   "source": [
    "df.dropna().describe()"
   ]
  },
  {
   "cell_type": "code",
   "execution_count": 19,
   "metadata": {},
   "outputs": [
    {
     "output_type": "execute_result",
     "data": {
      "text/plain": "method\nAstrometry                          631.180000\nEclipse Timing Variations          4751.644444\nImaging                          118247.737500\nMicrolensing                       3153.571429\nOrbital Brightness Modulation         0.709307\nPulsar Timing                      7343.021201\nPulsation Timing Variations        1170.000000\nRadial Velocity                     823.354680\nTransit                              21.102073\nTransit Timing Variations            79.783500\nName: orbital_period, dtype: float64"
     },
     "metadata": {},
     "execution_count": 19
    }
   ],
   "source": [
    "df.groupby('method')['orbital_period'].mean()"
   ]
  },
  {
   "cell_type": "code",
   "execution_count": 29,
   "metadata": {},
   "outputs": [
    {
     "output_type": "execute_result",
     "data": {
      "text/plain": "                                   mean       std  count\nmethod                                                  \nAstrometry                          NaN       NaN      0\nEclipse Timing Variations      5.125000  1.308148      2\nImaging                             NaN       NaN      0\nMicrolensing                        NaN       NaN      0\nOrbital Brightness Modulation       NaN       NaN      0\nPulsar Timing                       NaN       NaN      0\nPulsation Timing Variations         NaN       NaN      0\nRadial Velocity                2.630699  3.825883    510\nTransit                        1.470000       NaN      1\nTransit Timing Variations           NaN       NaN      0",
      "text/html": "<div>\n<style scoped>\n    .dataframe tbody tr th:only-of-type {\n        vertical-align: middle;\n    }\n\n    .dataframe tbody tr th {\n        vertical-align: top;\n    }\n\n    .dataframe thead th {\n        text-align: right;\n    }\n</style>\n<table border=\"1\" class=\"dataframe\">\n  <thead>\n    <tr style=\"text-align: right;\">\n      <th></th>\n      <th>mean</th>\n      <th>std</th>\n      <th>count</th>\n    </tr>\n    <tr>\n      <th>method</th>\n      <th></th>\n      <th></th>\n      <th></th>\n    </tr>\n  </thead>\n  <tbody>\n    <tr>\n      <th>Astrometry</th>\n      <td>NaN</td>\n      <td>NaN</td>\n      <td>0</td>\n    </tr>\n    <tr>\n      <th>Eclipse Timing Variations</th>\n      <td>5.125000</td>\n      <td>1.308148</td>\n      <td>2</td>\n    </tr>\n    <tr>\n      <th>Imaging</th>\n      <td>NaN</td>\n      <td>NaN</td>\n      <td>0</td>\n    </tr>\n    <tr>\n      <th>Microlensing</th>\n      <td>NaN</td>\n      <td>NaN</td>\n      <td>0</td>\n    </tr>\n    <tr>\n      <th>Orbital Brightness Modulation</th>\n      <td>NaN</td>\n      <td>NaN</td>\n      <td>0</td>\n    </tr>\n    <tr>\n      <th>Pulsar Timing</th>\n      <td>NaN</td>\n      <td>NaN</td>\n      <td>0</td>\n    </tr>\n    <tr>\n      <th>Pulsation Timing Variations</th>\n      <td>NaN</td>\n      <td>NaN</td>\n      <td>0</td>\n    </tr>\n    <tr>\n      <th>Radial Velocity</th>\n      <td>2.630699</td>\n      <td>3.825883</td>\n      <td>510</td>\n    </tr>\n    <tr>\n      <th>Transit</th>\n      <td>1.470000</td>\n      <td>NaN</td>\n      <td>1</td>\n    </tr>\n    <tr>\n      <th>Transit Timing Variations</th>\n      <td>NaN</td>\n      <td>NaN</td>\n      <td>0</td>\n    </tr>\n  </tbody>\n</table>\n</div>"
     },
     "metadata": {},
     "execution_count": 29
    }
   ],
   "source": [
    "df.groupby('method').aggregate([np.mean, np.std, 'count'])['mass']"
   ]
  },
  {
   "cell_type": "code",
   "execution_count": 30,
   "metadata": {},
   "outputs": [
    {
     "output_type": "execute_result",
     "data": {
      "text/plain": "               method  number  orbital_period   mass  distance  year\n0     Radial Velocity       1      269.300000   7.10     77.40  2006\n1     Radial Velocity       1      874.774000   2.21     56.95  2008\n2     Radial Velocity       1      763.000000   2.60     19.84  2011\n3     Radial Velocity       1      326.030000  19.40    110.62  2007\n4     Radial Velocity       1      516.220000  10.50    119.47  2009\n...               ...     ...             ...    ...       ...   ...\n1030          Transit       1        3.941507    NaN    172.00  2006\n1031          Transit       1        2.615864    NaN    148.00  2007\n1032          Transit       1        3.191524    NaN    174.00  2007\n1033          Transit       1        4.125083    NaN    293.00  2008\n1034          Transit       1        4.187757    NaN    260.00  2008\n\n[1035 rows x 6 columns]",
      "text/html": "<div>\n<style scoped>\n    .dataframe tbody tr th:only-of-type {\n        vertical-align: middle;\n    }\n\n    .dataframe tbody tr th {\n        vertical-align: top;\n    }\n\n    .dataframe thead th {\n        text-align: right;\n    }\n</style>\n<table border=\"1\" class=\"dataframe\">\n  <thead>\n    <tr style=\"text-align: right;\">\n      <th></th>\n      <th>method</th>\n      <th>number</th>\n      <th>orbital_period</th>\n      <th>mass</th>\n      <th>distance</th>\n      <th>year</th>\n    </tr>\n  </thead>\n  <tbody>\n    <tr>\n      <th>0</th>\n      <td>Radial Velocity</td>\n      <td>1</td>\n      <td>269.300000</td>\n      <td>7.10</td>\n      <td>77.40</td>\n      <td>2006</td>\n    </tr>\n    <tr>\n      <th>1</th>\n      <td>Radial Velocity</td>\n      <td>1</td>\n      <td>874.774000</td>\n      <td>2.21</td>\n      <td>56.95</td>\n      <td>2008</td>\n    </tr>\n    <tr>\n      <th>2</th>\n      <td>Radial Velocity</td>\n      <td>1</td>\n      <td>763.000000</td>\n      <td>2.60</td>\n      <td>19.84</td>\n      <td>2011</td>\n    </tr>\n    <tr>\n      <th>3</th>\n      <td>Radial Velocity</td>\n      <td>1</td>\n      <td>326.030000</td>\n      <td>19.40</td>\n      <td>110.62</td>\n      <td>2007</td>\n    </tr>\n    <tr>\n      <th>4</th>\n      <td>Radial Velocity</td>\n      <td>1</td>\n      <td>516.220000</td>\n      <td>10.50</td>\n      <td>119.47</td>\n      <td>2009</td>\n    </tr>\n    <tr>\n      <th>...</th>\n      <td>...</td>\n      <td>...</td>\n      <td>...</td>\n      <td>...</td>\n      <td>...</td>\n      <td>...</td>\n    </tr>\n    <tr>\n      <th>1030</th>\n      <td>Transit</td>\n      <td>1</td>\n      <td>3.941507</td>\n      <td>NaN</td>\n      <td>172.00</td>\n      <td>2006</td>\n    </tr>\n    <tr>\n      <th>1031</th>\n      <td>Transit</td>\n      <td>1</td>\n      <td>2.615864</td>\n      <td>NaN</td>\n      <td>148.00</td>\n      <td>2007</td>\n    </tr>\n    <tr>\n      <th>1032</th>\n      <td>Transit</td>\n      <td>1</td>\n      <td>3.191524</td>\n      <td>NaN</td>\n      <td>174.00</td>\n      <td>2007</td>\n    </tr>\n    <tr>\n      <th>1033</th>\n      <td>Transit</td>\n      <td>1</td>\n      <td>4.125083</td>\n      <td>NaN</td>\n      <td>293.00</td>\n      <td>2008</td>\n    </tr>\n    <tr>\n      <th>1034</th>\n      <td>Transit</td>\n      <td>1</td>\n      <td>4.187757</td>\n      <td>NaN</td>\n      <td>260.00</td>\n      <td>2008</td>\n    </tr>\n  </tbody>\n</table>\n<p>1035 rows × 6 columns</p>\n</div>"
     },
     "metadata": {},
     "execution_count": 30
    }
   ],
   "source": [
    "df"
   ]
  },
  {
   "cell_type": "code",
   "execution_count": null,
   "metadata": {},
   "outputs": [],
   "source": []
  }
 ]
}