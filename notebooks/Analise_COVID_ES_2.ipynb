{
 "cells": [
  {
   "cell_type": "markdown",
   "metadata": {},
   "source": [
    "# Análise do COVID no ES - Otimizado e Formatado\n",
    "Maiky Barreto da Silva"
   ]
  },
  {
   "cell_type": "code",
   "execution_count": null,
   "metadata": {},
   "outputs": [],
   "source": [
    "# Importando os módulos e o arquivo\n",
    "\n",
    "import pandas as pd\n",
    "import numpy as np\n",
    "import matplotlib.pyplot as plt\n",
    "import seaborn\n",
    "seaborn.set()\n",
    "\n",
    "df = pd.read_csv('https://bi.static.es.gov.br/covid19/MICRODADOS.csv', sep = ';', encoding = 'iso8859_15')"
   ]
  },
  {
   "cell_type": "code",
   "execution_count": null,
   "metadata": {},
   "outputs": [],
   "source": [
    "df.DataNotificacao = df.DataNotificacao.astype(np.datetime64)\n",
    "df.DataObito = df.DataObito.astype(np.datetime64)"
   ]
  },
  {
   "cell_type": "code",
   "execution_count": null,
   "metadata": {},
   "outputs": [],
   "source": [
    "df_confirmados = df.query(\"Classificacao == 'Confirmados'\")\n",
    "df_confirmados"
   ]
  },
  {
   "cell_type": "code",
   "execution_count": null,
   "metadata": {},
   "outputs": [],
   "source": [
    "dist_confirmados = df_confirmados.groupby('DataNotificacao').count().DataCadastro"
   ]
  },
  {
   "cell_type": "code",
   "execution_count": null,
   "metadata": {},
   "outputs": [],
   "source": [
    "rm_confirmados = df_confirmados.groupby('DataNotificacao').count().DataCadastro.rolling(14).mean()"
   ]
  },
  {
   "cell_type": "code",
   "execution_count": null,
   "metadata": {},
   "outputs": [],
   "source": [
    "fig1 = plt.figure(figsize = (12,6))\n",
    "ax1 = plt.axes()\n",
    "ax1.bar(dist_confirmados[-90:-1].index, dist_confirmados[-90:-1], label = 'Mortos no dia')\n",
    "ax1.plot(rm_confirmados[-90:-1], color = 'r', label = 'Média móvel de mortos nos últimos 7 dias')\n",
    "ax1.legend()\n",
    "ax1.set(title = 'Casos confirmados de COVID-19 nos últimos 90 dias no ES', ylabel = 'Quantidade de Casos confirmados',\n",
    "        xlabel = 'Data da Notificação')"
   ]
  },
  {
   "cell_type": "code",
   "execution_count": null,
   "metadata": {},
   "outputs": [],
   "source": [
    "df_obitos = df.query(\"DataObito > '2020'\")\n",
    "df_obitos"
   ]
  },
  {
   "cell_type": "code",
   "execution_count": null,
   "metadata": {},
   "outputs": [],
   "source": [
    "total_obitos = df.pivot_table('DataNotificacao', 'DataObito', 'Classificacao', aggfunc='count')\n",
    "total_obitos"
   ]
  },
  {
   "cell_type": "code",
   "execution_count": null,
   "metadata": {},
   "outputs": [],
   "source": [
    "# Restringindo a data para os últimos 90d\n",
    "\n",
    "obitos_conf = total_obitos.Confirmados[-90:-1]\n",
    "obitos_susp = total_obitos.Suspeito[-90:-1]\n",
    "obitos_desc = total_obitos.Descartados[-90:-1]\n",
    "rm_obitos = obitos_conf.add(obitos_desc.add(obitos_susp, fill_value=0), fill_value=0).rolling(14).mean()"
   ]
  },
  {
   "cell_type": "code",
   "execution_count": null,
   "metadata": {
    "tags": []
   },
   "outputs": [],
   "source": [
    "fig2 = plt.figure(figsize=(12,6))\n",
    "ax2 = plt.axes()\n",
    "ax2.bar(obitos_conf.index, obitos_conf, label='Confirmados')\n",
    "ax2.bar(obitos_desc.index, obitos_desc, bottom=obitos_conf, label='Descartados')\n",
    "ax2.bar(obitos_susp.index, obitos_susp, bottom=obitos_conf+obitos_desc, label='Suspeitos')\n",
    "ax2.plot(rm_obitos, color='r', label='Média móvel dos últimos 14d')\n",
    "ax2.legend()\n",
    "ax2.set(title='Composição do índice de Mortos por COVID no ES nos últimos 90 dias', xlabel='Data de Óbito',\n",
    "        ylabel='Quantidade de Mortos no dia')"
   ]
  },
  {
   "cell_type": "markdown",
   "metadata": {},
   "source": [
    "Filtrando os dados apenas para a GV (Serra, Cariacica, Viana, Vila Velha e Vitória)"
   ]
  },
  {
   "cell_type": "code",
   "execution_count": null,
   "metadata": {},
   "outputs": [],
   "source": [
    "dfgv = df.query(\"Municipio == ['VILA VELHA','VITORIA','CARIACICA','SERRA','VIANA']\")\n",
    "dfgv"
   ]
  },
  {
   "cell_type": "code",
   "execution_count": null,
   "metadata": {},
   "outputs": [],
   "source": [
    "dfgv_confirmados = dfgv.query(\"Classificacao == 'Confirmados'\")\n",
    "dfgv_confirmados"
   ]
  },
  {
   "cell_type": "code",
   "execution_count": null,
   "metadata": {},
   "outputs": [],
   "source": [
    "casos_gv = dfgv_confirmados.pivot_table('Classificacao','DataNotificacao',aggfunc='count').Classificacao\n",
    "rm_casos_gv = casos_gv.rolling(14).mean()"
   ]
  },
  {
   "cell_type": "code",
   "execution_count": null,
   "metadata": {},
   "outputs": [],
   "source": [
    "fig3 = plt.figure(figsize=(12,6))\n",
    "ax3 = plt.axes()\n",
    "ax3.bar(casos_gv[-90:-1].index, casos_gv[-90:-1],label='Confirmados')\n",
    "ax3.plot(rm_casos_gv[-90:-1],color='r',label='Média Móvel 14d')\n",
    "ax3.legend()\n",
    "ax3.set(title='Casos confirmados de COVID na GV nos últimos 90d', xlabel='Data da Notificação',\n",
    "        ylabel='Pacientes notificados')"
   ]
  },
  {
   "cell_type": "code",
   "execution_count": null,
   "metadata": {},
   "outputs": [],
   "source": [
    "total_obitos_gv = dfgv.query(\"DataObito > '2020'\").pivot_table('DataNotificacao','DataObito','Classificacao',aggfunc='count')\n",
    "total_obitos_gv"
   ]
  },
  {
   "cell_type": "code",
   "execution_count": null,
   "metadata": {},
   "outputs": [],
   "source": [
    "# Restringindo a data para os últimos 90d\n",
    "\n",
    "obitos_conf_gv = total_obitos_gv.Confirmados[-90:-1]\n",
    "obitos_susp_gv = total_obitos_gv.Suspeito[-90:-1]\n",
    "obitos_desc_gv = total_obitos_gv.Descartados[-90:-1]\n",
    "rm_obitos_gv = obitos_conf_gv.add(obitos_desc_gv.add(obitos_susp_gv, fill_value=0), fill_value=0).rolling(14).mean()"
   ]
  },
  {
   "cell_type": "code",
   "execution_count": null,
   "metadata": {},
   "outputs": [],
   "source": [
    "fig4 = plt.figure(figsize=(12,6))\n",
    "ax4 = plt.axes()\n",
    "ax4.bar(obitos_conf_gv.index, obitos_conf_gv, label='Confirmados')\n",
    "ax4.bar(obitos_desc_gv.index, obitos_desc_gv, bottom=obitos_conf_gv, label='Descartados')\n",
    "ax4.bar(obitos_susp_gv.index, obitos_susp_gv, bottom=obitos_conf_gv+obitos_desc_gv, label='Suspeitos')\n",
    "ax4.plot(rm_obitos_gv, color='r', label='Média móvel dos últimos 14d')\n",
    "ax4.legend()\n",
    "ax4.set(title='Composição do índice de Mortos por COVID na GV nos últimos 90 dias', xlabel='Data de Óbito',\n",
    "        ylabel='Quantidade de Mortos no dia')"
   ]
  },
  {
   "cell_type": "code",
   "execution_count": null,
   "metadata": {},
   "outputs": [],
   "source": [
    "# Retirando os descartados do plot e da média móvel\n",
    "\n",
    "rm2_obitos_gv = obitos_conf_gv.add(obitos_susp_gv, fill_value=0).rolling(14).mean()\n",
    "rm3_obitos_gv = obitos_desc_gv.fillna(0).rolling(14).mean()"
   ]
  },
  {
   "cell_type": "code",
   "execution_count": null,
   "metadata": {},
   "outputs": [],
   "source": [
    "fig5 = plt.figure(figsize=(12,6))\n",
    "ax5 = plt.axes()\n",
    "ax5.bar(obitos_conf_gv.index, obitos_conf_gv, label='Confirmados')\n",
    "ax5.bar(obitos_desc_gv.index, obitos_desc_gv, label='Descartados')\n",
    "ax5.bar(obitos_susp_gv.index, obitos_susp_gv, bottom=obitos_conf_gv, label='Suspeitos')\n",
    "ax5.plot(rm3_obitos_gv, color='magenta', label='Média móvel Descartados 14d')\n",
    "ax5.plot(rm2_obitos_gv, color='r', label='Média móvel Conf+Susp 14d')\n",
    "ax5.legend()\n",
    "ax5.set(title='Composição do índice de Mortos por COVID na GV nos últimos 90 dias', xlabel='Data de Óbito',\n",
    "        ylabel='Quantidade de Mortos no dia')"
   ]
  },
  {
   "cell_type": "code",
   "execution_count": null,
   "metadata": {},
   "outputs": [],
   "source": []
  }
 ],
 "metadata": {
  "kernelspec": {
   "display_name": "Python 3.8.2 64-bit",
   "language": "python",
   "name": "python38264bitd64f3614f4304fc5b050ea8b1432b529"
  },
  "language_info": {
   "codemirror_mode": {
    "name": "ipython",
    "version": 3
   },
   "file_extension": ".py",
   "mimetype": "text/x-python",
   "name": "python",
   "nbconvert_exporter": "python",
   "pygments_lexer": "ipython3",
   "version": "3.8.2"
  }
 },
 "nbformat": 4,
 "nbformat_minor": 2
}
