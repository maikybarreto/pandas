{
 "cells": [
  {
   "cell_type": "markdown",
   "metadata": {},
   "source": [
    "# Teste com o pacote Plotly para plotagens estáticas e interativas\n",
    "## Maiky Barreto da Silva"
   ]
  },
  {
   "cell_type": "code",
   "execution_count": 1,
   "metadata": {
    "tags": []
   },
   "outputs": [],
   "source": [
    "# Importando os módulos e o arquivo\n",
    "\n",
    "import pandas as pd\n",
    "import numpy as np\n",
    "import matplotlib.pyplot as plt\n",
    "import seaborn\n",
    "seaborn.set()"
   ]
  },
  {
   "cell_type": "code",
   "execution_count": 2,
   "metadata": {},
   "outputs": [
    {
     "name": "stderr",
     "output_type": "stream",
     "text": [
      "/home/maiky/.local/lib/python3.8/site-packages/IPython/html.py:12: ShimWarning: The `IPython.html` package has been deprecated since IPython 4.0. You should import from `notebook` instead. `IPython.html.widgets` has moved to `ipywidgets`.\n",
      "  warn(\"The `IPython.html` package has been deprecated since IPython 4.0. \"\n"
     ]
    }
   ],
   "source": [
    "# Importando os pacotes do plotly\n",
    "\n",
    "import plotly.graph_objects as go\n",
    "import plotly.express as px\n",
    "from IPython.html.widgets import interact\n",
    "\n",
    "# Importando os pacotes do ipywidgets\n",
    "\n",
    "import ipywidgets as widgets\n",
    "import IPython.display as display\n",
    "import datetime"
   ]
  },
  {
   "cell_type": "code",
   "execution_count": null,
   "metadata": {},
   "outputs": [],
   "source": [
    "# Importando o arquivo\n",
    "\n",
    "df = pd.read_csv('https://bi.static.es.gov.br/covid19/MICRODADOS.csv', sep = ';', encoding = 'iso8859_15')"
   ]
  },
  {
   "cell_type": "code",
   "execution_count": null,
   "metadata": {},
   "outputs": [],
   "source": [
    "# Pré-análise\n",
    "\n",
    "df.DataNotificacao = df.DataNotificacao.astype(np.datetime64)\n",
    "df.DataObito = df.DataObito.astype(np.datetime64)\n",
    "\n",
    "# Análise nos casos no Estado\n",
    "\n",
    "df_confirmados = df.query(\"Classificacao == 'Confirmados'\")\n",
    "dist_confirmados = df_confirmados.groupby('DataNotificacao').count().DataCadastro\n",
    "rm_confirmados = df_confirmados.groupby('DataNotificacao').count().DataCadastro.rolling(14).mean()\n",
    "\n",
    "# Análise dos mortos no Estado\n",
    "\n",
    "df_obitos = df_confirmados.query(\"DataObito > '2020'\")\n",
    "total_obitos = df_obitos.pivot_table('DataNotificacao', 'DataObito', 'Classificacao', aggfunc='count')\n",
    "rm_total_obitos = total_obitos.rolling(14).mean()"
   ]
  },
  {
   "cell_type": "code",
   "execution_count": null,
   "metadata": {},
   "outputs": [],
   "source": [
    "# Análise dos casos na GV\n",
    "\n",
    "gv = ['VILA VELHA', 'VITÓRIA', 'CARIACICA', 'SERRA', 'VIANA']\n",
    "dfgv_cconfirmados = df_confirmados.query(\"Municipio == @gv\")\n",
    "dist_conf_gv = dfgv_cconfirmados.groupby('DataNotificacao').count().DataCadastro\n",
    "rm_conf_gv = dist_conf_gv.rolling(14).mean()\n",
    "\n",
    "# Análise dos mortos na GV\n",
    "\n",
    "df_ob_gv = df_obitos.query(\"Municipio == @gv\")\n",
    "dist_ob_gv = df_ob_gv.groupby('DataObito').count().DataNotificacao\n",
    "rm_dist_ob_gv = dist_ob_gv.rolling(14).mean()"
   ]
  },
  {
   "cell_type": "code",
   "execution_count": null,
   "metadata": {},
   "outputs": [],
   "source": [
    "fig = px.line(x=[\"a\",\"b\",\"c\"], y=[1,3,2], title=\"sample figure\")\n",
    "fig.show()"
   ]
  },
  {
   "cell_type": "code",
   "execution_count": null,
   "metadata": {},
   "outputs": [],
   "source": [
    "df_conf = pd.merge(dist_confirmados, rm_confirmados, left_index=True, right_index=True)\n",
    "df_conf"
   ]
  },
  {
   "cell_type": "code",
   "execution_count": null,
   "metadata": {},
   "outputs": [],
   "source": [
    "fig2 = go.Figure()\n",
    "fig2 = px.bar(df_conf) \n",
    "            #labels={'DataNotificacao':'Data de Notificação do caso','value':'Pacientes confirmados'})\n",
    "fig2.update_layout(legend=dict(y=0.99, x=0.01))\n",
    "\n",
    "fig2.show()"
   ]
  },
  {
   "cell_type": "code",
   "execution_count": null,
   "metadata": {
    "tags": []
   },
   "outputs": [],
   "source": [
    "fig3 = go.Figure(layout_title_text=\"Casos confirmados de COVID 19 no ES\")\n",
    "\n",
    "fig3.add_bar(x=dist_confirmados.index, y=dist_confirmados, name='Casos por dia')\n",
    "fig3.add_scatter(x=rm_confirmados.index, y=rm_confirmados, name='Média móvel 14d')\n",
    "\n",
    "fig3.update_layout(legend=dict(y=0.99, x=0.01))\n",
    "fig3.update_traces(hovertemplate='Data: %{x}<br>Casos por dia: %{y}', selector={'name':'Casos por dia'})\n",
    "fig3.update_traces(hovertemplate='Data: %{x}<br>Média móvel no dia: %{y}', selector={'name':'Média móvel 14d'})\n",
    "fig3.update_yaxes(title='Pacientes confirmados')\n",
    "fig3.update_xaxes(title='Data de Notificação')\n",
    "\n",
    "fig3.show()"
   ]
  },
  {
   "cell_type": "code",
   "execution_count": null,
   "metadata": {},
   "outputs": [],
   "source": [
    "fig4 = go.Figure(layout_title_text=\"Casos confirmados de COVID 19 na GV\")\n",
    "\n",
    "fig4.add_bar(x=dist_conf_gv.index, y=dist_conf_gv, name='Casos por dia')\n",
    "fig4.add_scatter(x=rm_conf_gv.index, y=rm_conf_gv, name='Média móvel 14d')\n",
    "\n",
    "fig4.update_layout(legend=dict(y=0.99, x=0.01))\n",
    "fig4.update_traces(hovertemplate='Data: %{x}<br>Casos por dia: %{y}', selector={'name':'Casos por dia'})\n",
    "fig4.update_traces(hovertemplate='Data: %{x}<br>Média móvel no dia: %{y}', selector={'name':'Média móvel 14d'})\n",
    "fig4.update_yaxes(title='Pacientes confirmados')\n",
    "fig4.update_xaxes(title='Data de Notificação')\n",
    "\n",
    "fig4.update_layout(\n",
    "    xaxis=dict(\n",
    "        rangeselector=dict(\n",
    "            buttons=list([\n",
    "                dict(count=1,\n",
    "                     label=\"1m\",\n",
    "                     step=\"month\",\n",
    "                     stepmode=\"backward\"),\n",
    "                     dict(step=\"all\")\n",
    "                     ])),\n",
    "        rangeslider=dict(\n",
    "            visible=True\n",
    "        ),\n",
    "        type=\"date\"\n",
    "    )\n",
    ")\n",
    "\n",
    "fig4.show()"
   ]
  },
  {
   "cell_type": "code",
   "execution_count": null,
   "metadata": {},
   "outputs": [],
   "source": [
    "fig5 = go.Figure(layout_title_text=\"Óbitos de COVID 19 na GV\")\n",
    "\n",
    "fig5.add_bar(x=dist_ob_gv.index, y=dist_ob_gv, name='Óbitos por dia')\n",
    "fig5.add_scatter(x=rm_dist_ob_gv.index, y=rm_dist_ob_gv, name='Média móvel 14d')\n",
    "\n",
    "fig5.update_layout(legend=dict(y=0.99, x=0.01))\n",
    "fig5.update_traces(hovertemplate='Data: %{x}<br>Óbitos por dia: %{y}', selector={'name':'Óbitos por dia'})\n",
    "fig5.update_traces(hovertemplate='Data: %{x}<br>Média móvel no dia: %{y}', selector={'name':'Média móvel 14d'})\n",
    "fig5.update_yaxes(title='Pacientes mortos')\n",
    "\n",
    "fig5.update_layout(\n",
    "    xaxis=dict(\n",
    "        rangeselector=dict(\n",
    "            buttons=list([\n",
    "                dict(count=1,\n",
    "                     label=\"1m\",\n",
    "                     step=\"month\",\n",
    "                     stepmode=\"backward\"),\n",
    "                     dict(step=\"all\")\n",
    "                     ])),\n",
    "        rangeslider=dict(\n",
    "            visible=True\n",
    "        ),\n",
    "        type=\"date\"\n",
    "    )\n",
    ")\n",
    "\n",
    "fig5.show()"
   ]
  },
  {
   "cell_type": "markdown",
   "metadata": {},
   "source": [
    "## Tentando utilizar a interatividade a partir de sliders e botões"
   ]
  },
  {
   "cell_type": "code",
   "execution_count": null,
   "metadata": {},
   "outputs": [],
   "source": [
    "# Create figure\n",
    "fig = go.Figure()\n",
    "\n",
    "# Add traces, one for each slider step\n",
    "for step in np.arange(0, 5, 0.1):\n",
    "    fig.add_trace(\n",
    "        go.Scatter(\n",
    "            visible=False,\n",
    "            line=dict(color=\"#00CED1\", width=6),\n",
    "            name=\"𝜈 = \" + str(step),\n",
    "            x=np.arange(0, 10, 0.01),\n",
    "            y=np.sin(step * np.arange(0, 10, 0.01))))\n",
    "\n",
    "# Make 10th trace visible\n",
    "fig.data[10].visible = True\n",
    "\n",
    "# Create and add slider\n",
    "steps = []\n",
    "for i in range(len(fig.data)):\n",
    "    step = dict(\n",
    "        method=\"update\",\n",
    "        args=[{\"visible\": [False] * len(fig.data)},\n",
    "              {\"title\": \"Slider switched to step: \" + str(i)}],  # layout attribute\n",
    "    )\n",
    "    step[\"args\"][0][\"visible\"][i] = True  # Toggle i'th trace to \"visible\"\n",
    "    steps.append(step)\n",
    "\n",
    "sliders = [dict(\n",
    "    active=10,\n",
    "    currentvalue={\"prefix\": \"Frequency: \"},\n",
    "    pad={\"t\": 50},\n",
    "    steps=steps\n",
    ")]\n",
    "\n",
    "fig.update_layout(\n",
    "    sliders=sliders\n",
    ")\n",
    "\n",
    "fig.show()"
   ]
  },
  {
   "cell_type": "code",
   "execution_count": null,
   "metadata": {},
   "outputs": [],
   "source": [
    "fig.update_layout(\n",
    "    xaxis=dict(\n",
    "        rangeslider=dict(\n",
    "            visible=True\n",
    "        ),\n",
    "        type=\"date\"\n",
    "    )\n",
    ")\n"
   ]
  }
 ],
 "metadata": {
  "kernelspec": {
   "display_name": "Python 3.8.2 64-bit",
   "language": "python",
   "name": "python38264bitd64f3614f4304fc5b050ea8b1432b529"
  },
  "language_info": {
   "codemirror_mode": {
    "name": "ipython",
    "version": 3
   },
   "file_extension": ".py",
   "mimetype": "text/x-python",
   "name": "python",
   "nbconvert_exporter": "python",
   "pygments_lexer": "ipython3",
   "version": "3.8.2"
  }
 },
 "nbformat": 4,
 "nbformat_minor": 2
}
